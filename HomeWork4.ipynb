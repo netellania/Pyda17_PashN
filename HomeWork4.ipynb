{
 "cells": [
  {
   "cell_type": "code",
   "execution_count": 23,
   "metadata": {},
   "outputs": [
    {
     "name": "stdout",
     "output_type": "stream",
     "text": [
      "Введите номер документа:10006\n",
      "Аристарх Павлов\n"
     ]
    }
   ],
   "source": [
    "# Задание1 Работа секретаря\n",
    "# Документы\n",
    "documents = [\n",
    " {'type': 'passport', 'number': '2207 876234', 'name': 'Василий Гупкин'},\n",
    " {'type': 'invoice', 'number': '11-2', 'name': 'Геннадий Покемонов'},\n",
    " {'type': 'insurance', 'number': '10006', 'name': 'Аристарх Павлов'}\n",
    "]\n",
    "# Перечень полок, на которых хранятся документы (если документ есть в documents, то он обязательно должен быть и в directories)\n",
    "directories = {\n",
    " '1': ['2207 876234', '11-2'],\n",
    " '2': ['10006'],\n",
    " '3': []\n",
    "}\n",
    "\n",
    "# Задание1.1 Пользователь по команде \"p\" может узнать владельца документа по его номеру\n",
    "def func1():\n",
    "    found = False\n",
    "    #kom = input(\"Для определения владельца документа введите команду p:\")\n",
    "    number = input(\"Введите номер документа:\")\n",
    "    for doc in documents:\n",
    "        if \"number\" in doc.keys() and doc[\"number\"] == number:\n",
    "            print(doc[\"name\"])\n",
    "            found = True\n",
    "    if not found:\n",
    "        print(\"Документ не найден в базе\")\n",
    "        \n",
    "func1()\n"
   ]
  },
  {
   "cell_type": "code",
   "execution_count": 44,
   "metadata": {},
   "outputs": [
    {
     "name": "stdout",
     "output_type": "stream",
     "text": [
      "Введите номер документа:s\n",
      "Документ не найден в базе\n"
     ]
    }
   ],
   "source": [
    "# Задание1.2 Пользователь по команде \"s\" может по номеру документа узнать на какой полке он хранится \n",
    "# Перечень полок, на которых хранятся документы (если документ есть в documents, то он обязательно должен быть и в directories)\n",
    "directories = {\n",
    " '1': ['2207 876234', '11-2'],\n",
    " '2': ['10006'],\n",
    " '3': []\n",
    "}\n",
    "def func2():\n",
    "    #kom = input(\"Для определения полки, где хранится документ введите команду s:\")\n",
    "    number = input('Введите номер документа:')\n",
    "    for key, doc_numb in directories.items():\n",
    "        for i in  doc_numb:\n",
    "            if i == number:\n",
    "                print('Документ хранится на', key[0], 'полке')\n",
    "                return\n",
    "    print(\"Документ не найден в базе\")\n",
    "\n",
    "func2()\n",
    "             \n",
    "    #dir = list(filter(lambda e: number in e[1], directories.items()))[0]\n",
    "    #print('Документ хранится на', dir[0], 'полке')\n",
    " "
   ]
  },
  {
   "cell_type": "code",
   "execution_count": 50,
   "metadata": {},
   "outputs": [
    {
     "name": "stdout",
     "output_type": "stream",
     "text": [
      "№: ['2207 876234', '11-2'] , тип: passport , владелец: Василий Гупкин , полка хранения: 1\n",
      "№: ['2207 876234', '11-2'] , тип: invoice , владелец: Геннадий Покемонов , полка хранения: 1\n",
      "№: ['10006'] , тип: insurance , владелец: Аристарх Павлов , полка хранения: 2\n"
     ]
    }
   ],
   "source": [
    "# Задание1.3 Пользователь по команде \"l\" \n",
    "# может увидеть полную информацию по всем документам\n",
    "# Документы\n",
    "documents = [\n",
    " {'type': 'passport', 'number': '2207 876234', 'name': 'Василий Гупкин'},\n",
    " {'type': 'invoice', 'number': '11-2', 'name': 'Геннадий Покемонов'},\n",
    " {'type': 'insurance', 'number': '10006', 'name': 'Аристарх Павлов'}\n",
    "]\n",
    "# Перечень полок, на которых хранятся документы (если документ есть в documents, то он обязательно должен быть и в directories)\n",
    "directories = {\n",
    " '1': ['2207 876234', '11-2'],\n",
    " '2': ['10006'],\n",
    " '3': []\n",
    "}\n",
    "def func3():\n",
    "    #kom = input(\"Для вывода полной информации по всем документам введите команду l:\")\n",
    "    #number = input('Введите номер документа:')\n",
    "    for number in documents:\n",
    "        direct = list(filter(lambda fun: number['number'] in fun[1], directories.items()))[0]\n",
    "        number['directory'] = direct[0]\n",
    "        print('№:', direct[1],',', 'тип:', number['type'],',', 'владелец:', number['name'],',', 'полка хранения:', number['directory'])\n",
    "#№: 2207 876234, тип: passport, владелец: Василий Гупкин, полка хранения: 1\n",
    "func3()"
   ]
  },
  {
   "cell_type": "code",
   "execution_count": 51,
   "metadata": {},
   "outputs": [
    {
     "name": "stdout",
     "output_type": "stream",
     "text": [
      "Введите номер полки для добавления:10\n",
      "Полка добавлена. Текущий перечень полок: ['1', '2', '3', '10']\n"
     ]
    }
   ],
   "source": [
    "# Задание1.4 Пользователь по команде \"ads\" может добавить новую полку.\n",
    "# Документы\n",
    "documents = [\n",
    " {'type': 'passport', 'number': '2207 876234', 'name': 'Василий Гупкин'},\n",
    " {'type': 'invoice', 'number': '11-2', 'name': 'Геннадий Покемонов'},\n",
    " {'type': 'insurance', 'number': '10006', 'name': 'Аристарх Павлов'}\n",
    "]\n",
    "# Перечень полок, на которых хранятся документы (если документ есть в documents, то он обязательно должен быть и в directories)\n",
    "directories = {\n",
    " '1': ['2207 876234', '11-2'],\n",
    " '2': ['10006'],\n",
    " '3': []\n",
    "}\n",
    "def func4():\n",
    "    #kom = input(\"Для добавления новой полки введите команду  ads:\")\n",
    "    number = input('Введите номер полки для добавления:')\n",
    "    for direct in directories.items():\n",
    "        if number in direct[0]:\n",
    "            print(f\"Такая полка уже существует. Текущий перечень полок: {list(directories.keys())}\")\n",
    "            break\n",
    "    else:\n",
    "        directories[number] = []\n",
    "        print(f\"Полка добавлена. Текущий перечень полок: {list(directories.keys())}\")\n",
    "func4()\n"
   ]
  },
  {
   "cell_type": "code",
   "execution_count": 52,
   "metadata": {},
   "outputs": [
    {
     "name": "stdout",
     "output_type": "stream",
     "text": [
      "Введите номер полки для удаления:7\n",
      "Такой полки не существует. Текущий перечень полок: ['1', '2', '3']\n"
     ]
    }
   ],
   "source": [
    "# Задание1.5 Пользователь по команде \"ds\" может удалить полку, если она не пустая.\n",
    "# Документы\n",
    "documents = [\n",
    " {'type': 'passport', 'number': '2207 876234', 'name': 'Василий Гупкин'},\n",
    " {'type': 'invoice', 'number': '11-2', 'name': 'Геннадий Покемонов'},\n",
    " {'type': 'insurance', 'number': '10006', 'name': 'Аристарх Павлов'}\n",
    "]\n",
    "# Перечень полок, на которых хранятся документы (если документ есть в documents, то он обязательно должен быть и в directories)\n",
    "directories = {\n",
    " '1': ['2207 876234', '11-2'],\n",
    " '2': ['10006'],\n",
    " '3': []\n",
    "}\n",
    "def func5():\n",
    "    #kom = input(\"Для удаления новой полки введите команду ds:\")\n",
    "    number = input('Введите номер полки для удаления:')\n",
    "    for direct in directories.items():\n",
    "        if number in direct[0]:\n",
    "            if directories[number] == []:\n",
    "                del(directories[number])\n",
    "                print(f\"Такая полка удалена. Текущий перечень полок: {list(directories.keys())}\")\n",
    "            else:\n",
    "                print(f\"На полке есть документы, удалите их перед удалением полки. Текущий перечень полок: {list(directories.keys())}\")\n",
    "            break\n",
    "    else:\n",
    "        print(f\"Такой полки не существует. Текущий перечень полок: {list(directories.keys())}\")\n",
    "func5()\n",
    "    \n",
    "    "
   ]
  },
  {
   "cell_type": "code",
   "execution_count": 53,
   "metadata": {},
   "outputs": [
    {
     "name": "stdout",
     "output_type": "stream",
     "text": [
      " Для определения владельца документа введите p;\n",
      " Для определения полки, где хранится документ введите команду s;\n",
      " Для вывода полной информации по всем документам введите команду l;\n",
      " Для добавления новой полки введите команду  ads;\n",
      " Для удаления новой полки введите команду ds; \n",
      " Для завершения введите команду q\n",
      "Введите команду:p\n",
      "Введите номер документа:10006\n",
      "Аристарх Павлов\n",
      "Введите команду:s\n",
      "Введите номер документа:10006\n",
      "Документ хранится на 2 полке\n",
      "Введите команду:l\n",
      "№: ['2207 876234', '11-2'] , тип: passport , владелец: Василий Гупкин , полка хранения: 1\n",
      "№: ['2207 876234', '11-2'] , тип: invoice , владелец: Геннадий Покемонов , полка хранения: 1\n",
      "№: ['10006'] , тип: insurance , владелец: Аристарх Павлов , полка хранения: 2\n",
      "Введите команду:ads\n",
      "Введите номер полки для добавления:10\n",
      "Полка добавлена. Текущий перечень полок: ['1', '2', '3', '10']\n",
      "Введите команду:ds\n",
      "Введите номер полки для удаления:14\n",
      "Такой полки не существует. Текущий перечень полок: ['1', '2', '3', '10']\n",
      "Введите команду:q\n",
      "Работа завершена!\n"
     ]
    }
   ],
   "source": [
    "print(' Для определения владельца документа введите p;\\n Для определения полки, где хранится документ введите команду s;\\n Для вывода полной информации по всем документам введите команду l;\\n Для добавления новой полки введите команду  ads;\\n Для удаления новой полки введите команду ds; \\n Для завершения введите команду q')    \n",
    "def main():\n",
    "    while True:\n",
    "        user_input = input('Введите команду:') \n",
    "        if user_input == 'p':\n",
    "            func1()\n",
    "        elif user_input == 's':\n",
    "            func2()\n",
    "        elif user_input == 'l':\n",
    "            func3()\n",
    "        elif user_input == 'ads':\n",
    "            func4()\n",
    "        elif user_input == 'ds':\n",
    "            func5()\n",
    "        elif user_input == 'q':\n",
    "            print('Работа завершена!')\n",
    "            break\n",
    "main()            \n",
    "        "
   ]
  },
  {
   "cell_type": "code",
   "execution_count": null,
   "metadata": {},
   "outputs": [],
   "source": []
  }
 ],
 "metadata": {
  "kernelspec": {
   "display_name": "Python 3",
   "language": "python",
   "name": "python3"
  },
  "language_info": {
   "codemirror_mode": {
    "name": "ipython",
    "version": 3
   },
   "file_extension": ".py",
   "mimetype": "text/x-python",
   "name": "python",
   "nbconvert_exporter": "python",
   "pygments_lexer": "ipython3",
   "version": "3.8.5"
  }
 },
 "nbformat": 4,
 "nbformat_minor": 4
}
