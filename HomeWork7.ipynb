{
 "cells": [
  {
   "cell_type": "code",
   "execution_count": 18,
   "metadata": {},
   "outputs": [],
   "source": [
    "#Задание 1\n",
    "#Напишите функцию, которая возвращает название валюты (поле ‘Name’) с максимальным значением курса с помощью сервиса https://www.cbr-xml-daily.ru/daily_json.js\n",
    "import requests"
   ]
  },
  {
   "cell_type": "code",
   "execution_count": 208,
   "metadata": {},
   "outputs": [],
   "source": [
    "def max_cur_name():\n",
    "    dic_= []\n",
    "    full_data = requests.get('https://www.cbr-xml-daily.ru/daily_json.js')\n",
    "    name=full_data.json()['Valute']\n",
    "    for currency in name:\n",
    "        cur = name[currency]['Value']\n",
    "        nom = name[currency]['Nominal']\n",
    "        result = cur/nom\n",
    "        dic_.append(result)\n",
    "        sorted_dic_ = max(sorted(dic_))\n",
    "        if sorted_dic_==name[currency]['Value']:\n",
    "             name_1=name[currency]['Name']\n",
    "    return name_1\n",
    "    \n",
    "  "
   ]
  },
  {
   "cell_type": "code",
   "execution_count": 209,
   "metadata": {},
   "outputs": [
    {
     "data": {
      "text/plain": [
       "'СДР (специальные права заимствования)'"
      ]
     },
     "execution_count": 209,
     "metadata": {},
     "output_type": "execute_result"
    }
   ],
   "source": [
    "max_cur_name()"
   ]
  },
  {
   "cell_type": "code",
   "execution_count": 35,
   "metadata": {},
   "outputs": [],
   "source": [
    "# Задание 2\n",
    "#Добавьте в класс Rate параметр diff (со значениями True или False), \n",
    "#который в случае значения True в методах курсов валют (eur, usd итд)\n",
    "#будет возвращать не курс валюты, а изменение по сравнению в прошлым значением.\n",
    "#Считайте, self.diff будет принимать значение True только при возврате значения курса.\n",
    "#При отображении всей информации о валюте он не используется.\n",
    "\n",
    "class Rate:\n",
    "    def __init__(self, format_='value', diff=True):\n",
    "        self.format = format_\n",
    "        self.diff=diff\n",
    "    \n",
    "    def exchange_rates(self):\n",
    "        self.r = requests.get('https://www.cbr-xml-daily.ru/daily_json.js')\n",
    "        return self.r.json()['Valute']\n",
    "        \n",
    "    def make_format(self, currency, diff=True):\n",
    "        response = self.exchange_rates()\n",
    "        \n",
    "        if currency in response:\n",
    "            if self.format == 'full':\n",
    "                return response[currency]\n",
    "            \n",
    "            if self.format == 'value':\n",
    "                return response[currency]['Value']\n",
    "            \n",
    "            if self.format == 'diff':\n",
    "                x=response[currency]['Value']\n",
    "                y=response[currency]['Previous']\n",
    "                return x-y\n",
    "        \n",
    "        return 'Error'\n",
    "     \n",
    "    def eur(self):\n",
    "        return self.make_format('EUR')\n",
    "    \n",
    "    def usd(self):\n",
    "        return self.make_format('USD')\n",
    "    \n",
    "    def brl(self):\n",
    "        return self.make_format('BRL')   \n",
    "        \n",
    "    def diff(self, currency):\n",
    "        self.format='full'\n",
    "        m=self.make_format(currency)\n",
    "        return (m['Previous'] - m['Value'])\n",
    "            "
   ]
  },
  {
   "cell_type": "code",
   "execution_count": 36,
   "metadata": {},
   "outputs": [],
   "source": [
    "r = Rate(format_='full')"
   ]
  },
  {
   "cell_type": "code",
   "execution_count": 37,
   "metadata": {
    "scrolled": true
   },
   "outputs": [
    {
     "data": {
      "text/plain": [
       "{'ID': 'R01235',\n",
       " 'NumCode': '840',\n",
       " 'CharCode': 'USD',\n",
       " 'Nominal': 1,\n",
       " 'Name': 'Доллар США',\n",
       " 'Value': 73.7755,\n",
       " 'Previous': 73.7669}"
      ]
     },
     "execution_count": 37,
     "metadata": {},
     "output_type": "execute_result"
    }
   ],
   "source": [
    "r.usd()"
   ]
  },
  {
   "cell_type": "code",
   "execution_count": 42,
   "metadata": {},
   "outputs": [],
   "source": [
    "r = Rate(format_='diff')"
   ]
  },
  {
   "cell_type": "code",
   "execution_count": 62,
   "metadata": {},
   "outputs": [
    {
     "name": "stdout",
     "output_type": "stream",
     "text": [
      "Михаил 2\n",
      "Михаил 3\n",
      "Михаил 16\n"
     ]
    }
   ],
   "source": [
    "#Задание 3\n",
    "#Напишите класс Designer, который учитывает количество международных премий.\n",
    "\n",
    "class Employee:\n",
    "    def __init__(self, name, seniority):\n",
    "        self.name = name\n",
    "        self.seniority = seniority \n",
    "        \n",
    "        self.grade = 1\n",
    "        \n",
    "    def grade_up(self):\n",
    "        \"\"\"Повышает уровень сотрудника\"\"\"\n",
    "        self.grade += 1\n",
    "    \n",
    "    def publish_grade(self):\n",
    "        \"\"\"Публикация результатов аккредитации сотрудников\"\"\"\n",
    "        print(self.name, self.grade)\n",
    "        \n",
    "class Designer(Employee):\n",
    "    def __init__(self, name, seniority):\n",
    "        super().__init__(name, seniority)\n",
    "    \n",
    "    def check_if_it_is_time_for_upgrade(self):\n",
    "        '''проверка сотрудника на повышение'''    \n",
    "        if self.seniority % 7 == 0:\n",
    "            self.grade_up()\n",
    "        return self.publish_grade()\n",
    "    \n",
    "    def rate_grade(self, seniority):\n",
    "        self.grade = int(self.seniority / 7)\n",
    "        return self.grade, self.publish_grade()\n",
    "    \n",
    "    def upgrade_with_premium(self):\n",
    "        self.seniority += 2\n",
    "        print(self.name, self.seniority)\n",
    "        \n",
    "alex = Designer('Михаил', 14)\n",
    "alex.rate_grade(14)\n",
    "alex.check_if_it_is_time_for_upgrade()\n",
    "alex.upgrade_with_premium()"
   ]
  },
  {
   "cell_type": "code",
   "execution_count": null,
   "metadata": {},
   "outputs": [],
   "source": []
  }
 ],
 "metadata": {
  "kernelspec": {
   "display_name": "Python 3",
   "language": "python",
   "name": "python3"
  },
  "language_info": {
   "codemirror_mode": {
    "name": "ipython",
    "version": 3
   },
   "file_extension": ".py",
   "mimetype": "text/x-python",
   "name": "python",
   "nbconvert_exporter": "python",
   "pygments_lexer": "ipython3",
   "version": "3.8.5"
  }
 },
 "nbformat": 4,
 "nbformat_minor": 4
}
