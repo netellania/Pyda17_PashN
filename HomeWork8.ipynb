{
 "cells": [
  {
   "cell_type": "code",
   "execution_count": 3,
   "metadata": {},
   "outputs": [],
   "source": [
    "# Задание 1\n",
    "#Создайте numpy array с элементами от числа N до 0 \n",
    "#(например, для N = 10 это будет array([9, 8, 7, 6, 5, 4, 3, 2, 1, 0])).\n",
    "import numpy as np\n"
   ]
  },
  {
   "cell_type": "code",
   "execution_count": 25,
   "metadata": {},
   "outputs": [
    {
     "name": "stdout",
     "output_type": "stream",
     "text": [
      "Введите количество элементов массива:15\n",
      "[14 13 12 11 10  9  8  7  6  5  4  3  2  1  0]\n"
     ]
    }
   ],
   "source": [
    "x=input(\"Введите количество элементов массива:\")\n",
    "xx=int(x)\n",
    "y = np.arange(xx)\n",
    "res = y[::-1]\n",
    "print(res)\n"
   ]
  },
  {
   "cell_type": "code",
   "execution_count": 70,
   "metadata": {},
   "outputs": [
    {
     "name": "stdout",
     "output_type": "stream",
     "text": [
      "[0 4 8]\n",
      "12\n"
     ]
    }
   ],
   "source": [
    "#Задание 2\n",
    "#Создайте диагональную матрицу с элементами от N до 0. \n",
    "#Посчитайте сумму ее значений на диагонали.\n",
    "z = np.arange(9).reshape((3,3))\n",
    "#значения по диагонали \n",
    "np.diag(np.diag(z))\n",
    "np.diag(z)\n",
    "sum_z= sum(np.diag(z))\n",
    "print(np.diag(z))\n",
    "print(sum_z)"
   ]
  },
  {
   "cell_type": "code",
   "execution_count": 72,
   "metadata": {},
   "outputs": [
    {
     "data": {
      "text/plain": [
       "array([ 0.46666667,  3.84444444, -5.55555556])"
      ]
     },
     "execution_count": 72,
     "metadata": {},
     "output_type": "execute_result"
    }
   ],
   "source": [
    "#Задание 3\n",
    "#Решите систему уравнений:\n",
    "#4x + 2y + z = 4\n",
    "#x + 3y = 12\n",
    "#5y + 4z = -3\n",
    "\n",
    "# Маcсив-левая часть\n",
    "mm=np.array([[4.,2.,1.], [1.,3.,0.], [0.,5.,4.]])\n",
    "\n",
    "# Вектор-правая часть\n",
    "mv=np.array([4.,12.,-3.])\n",
    "\n",
    "np.linalg.solve(mm,mv)\n",
    "             \n"
   ]
  },
  {
   "cell_type": "code",
   "execution_count": 76,
   "metadata": {},
   "outputs": [],
   "source": [
    "#Задание 4\n",
    "#В материалах занятия раздел “Задача 4 домашнего задания”\n",
    "#Найдите самого похожего пользователя.\n",
    "#Т. е. посчитайте косинусное сходство между этим пользователем и всеми пользователями из массива user_stats\n",
    "import matplotlib.pyplot as plt\n"
   ]
  },
  {
   "cell_type": "code",
   "execution_count": 91,
   "metadata": {},
   "outputs": [],
   "source": [
    "users_stats = np.array(\n",
    "    [\n",
    "        [2, 1, 0, 0, 0, 0],\n",
    "        [1, 1, 2, 1, 0, 0],\n",
    "        [2, 0, 1, 0, 0, 0],\n",
    "        [1, 1, 2, 1, 0, 1],\n",
    "        [0, 0, 1, 2, 0, 0],\n",
    "        [0, 0, 0, 0, 0, 5],\n",
    "        [1, 0, 0, 0, 0, 0],\n",
    "        [0, 1, 1, 0, 0, 0],\n",
    "        [0, 0, 0, 1, 1, 3],\n",
    "        [1, 0, 0, 2, 1, 4]\n",
    "    ], \n",
    "    np.int32\n",
    ")"
   ]
  },
  {
   "cell_type": "code",
   "execution_count": 99,
   "metadata": {},
   "outputs": [],
   "source": [
    "# Посетитель о покупках которого известно следующее\n",
    "next_user_stats = np.array([0, 1, 2, 0, 0, 0])"
   ]
  },
  {
   "cell_type": "code",
   "execution_count": 100,
   "metadata": {},
   "outputs": [
    {
     "data": {
      "text/plain": [
       "0.19999999999999996"
      ]
     },
     "execution_count": 100,
     "metadata": {},
     "output_type": "execute_result"
    }
   ],
   "source": [
    "def cosine (a,b):\n",
    "    aLenght = np.linalg.norm(a)\n",
    "    bLenght = np.linalg.norm(b)\n",
    "    return np.dot(a,b)/ (aLenght * bLenght)\n",
    "cosine(users_stats[0],next_user_stats)\n",
    "\n",
    "   "
   ]
  },
  {
   "cell_type": "code",
   "execution_count": 101,
   "metadata": {},
   "outputs": [
    {
     "name": "stdout",
     "output_type": "stream",
     "text": [
      "[2 1 0 0 0 0] 0.19999999999999996\n",
      "[1 1 2 1 0 0] 0.8451542547285165\n",
      "[2 0 1 0 0 0] 0.3999999999999999\n",
      "[1 1 2 1 0 1] 0.7905694150420948\n",
      "[0 0 1 2 0 0] 0.3999999999999999\n",
      "[0 0 0 0 0 5] 0.0\n",
      "[1 0 0 0 0 0] 0.0\n",
      "[0 1 1 0 0 0] 0.9486832980505138\n",
      "[0 0 0 1 1 3] 0.0\n",
      "[1 0 0 2 1 4] 0.0\n"
     ]
    }
   ],
   "source": [
    "for i in users_stats:\n",
    "    print(i, cosine(i,next_user_stats))\n",
    "    "
   ]
  },
  {
   "cell_type": "code",
   "execution_count": null,
   "metadata": {},
   "outputs": [],
   "source": []
  }
 ],
 "metadata": {
  "kernelspec": {
   "display_name": "Python 3",
   "language": "python",
   "name": "python3"
  },
  "language_info": {
   "codemirror_mode": {
    "name": "ipython",
    "version": 3
   },
   "file_extension": ".py",
   "mimetype": "text/x-python",
   "name": "python",
   "nbconvert_exporter": "python",
   "pygments_lexer": "ipython3",
   "version": "3.8.5"
  }
 },
 "nbformat": 4,
 "nbformat_minor": 4
}
