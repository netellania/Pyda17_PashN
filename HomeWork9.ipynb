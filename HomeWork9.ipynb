{
 "cells": [
  {
   "cell_type": "code",
   "execution_count": 10,
   "metadata": {},
   "outputs": [],
   "source": [
    "import re"
   ]
  },
  {
   "cell_type": "code",
   "execution_count": 39,
   "metadata": {},
   "outputs": [
    {
     "name": "stdout",
     "output_type": "stream",
     "text": [
      "Введите номер транспортного средства:АБ22ВВ193\n",
      "Номер не валиден\n"
     ]
    }
   ],
   "source": [
    "#Задача 1 (проверка 1)\n",
    "#Напишите функцию, которая принимает на вход строку \n",
    "#и проверяет является ли она валидным транспортным номером (1 буква, 3 цифры, 2 буквы, 2-3 цифры).\n",
    "car_id=input('Введите номер транспортного средства:')\n",
    "if re.findall(r'[А В Е К М Н О Р С Т У Х]{1}\\d{3}[А В Е К М Н О Р С Т У Х]{2}\\d{2,3}',car_id):\n",
    "    print ( 'Номер', car_id[0]+car_id[1]+car_id[2]+car_id[3]+car_id[4]+car_id[5], 'валиден.Регион',car_id[6]+car_id[7]  )\n",
    "else: \n",
    "    print('Номер не валиден')\n"
   ]
  },
  {
   "cell_type": "code",
   "execution_count": 40,
   "metadata": {},
   "outputs": [
    {
     "name": "stdout",
     "output_type": "stream",
     "text": [
      "Введите номер транспортного средства:А222ВС96\n",
      "Номер А222ВС валиден.Регион 96\n"
     ]
    }
   ],
   "source": [
    "#Задача 1 (проверка 2)\n",
    "#Напишите функцию, которая принимает на вход строку \n",
    "#и проверяет является ли она валидным транспортным номером (1 буква, 3 цифры, 2 буквы, 2-3 цифры).\n",
    "car_id=input('Введите номер транспортного средства:')\n",
    "if re.findall(r'[А В Е К М Н О Р С Т У Х]{1}\\d{3}[А В Е К М Н О Р С Т У Х]{2}\\d{2,3}',car_id):\n",
    "    print ( 'Номер', car_id[0]+car_id[1]+car_id[2]+car_id[3]+car_id[4]+car_id[5], 'валиден.Регион',car_id[6]+car_id[7]  )\n",
    "else: \n",
    "    print('Номер не валиден')"
   ]
  },
  {
   "cell_type": "code",
   "execution_count": 41,
   "metadata": {},
   "outputs": [
    {
     "name": "stdout",
     "output_type": "stream",
     "text": [
      "Напишите функцию которая будет удалять все последовательные повторы слов из заданной строки при помощи регулярных выражений\n"
     ]
    }
   ],
   "source": [
    "#Задача 2 \n",
    "#Написать функцию, которая будет удалять все последовательные повторы слов из заданной строки\n",
    "some_string = 'Напишите функцию функцию, которая будет будет будет будет удалять все все все все последовательные повторы слов из из из из заданной строки строки при помощи регулярных выражений'\n",
    "print(re.sub(r'\\b([^\\W\\d_]+)(\\s+\\1)+\\b', r'\\1', re.sub(r'\\W+', ' ', some_string).strip(), flags=re.I) )\n"
   ]
  },
  {
   "cell_type": "code",
   "execution_count": 48,
   "metadata": {},
   "outputs": [
    {
     "name": "stdout",
     "output_type": "stream",
     "text": [
      "Введите строку для перевода:Near Field Communication\n",
      "N F C\n"
     ]
    }
   ],
   "source": [
    "#Задача 3 (проверка 1)\n",
    "#Напишите функцию, которая будет возвращать акроним по переданной в нее строке со словами.\n",
    "some_words=input('Введите строку для перевода:')\n",
    "print(re.sub(r'\\b(\\w)\\w+', r'\\1',some_words ))\n"
   ]
  },
  {
   "cell_type": "code",
   "execution_count": 52,
   "metadata": {},
   "outputs": [
    {
     "name": "stdout",
     "output_type": "stream",
     "text": [
      "Введите строку для перевода:Информационные технологии\n",
      "И Т\n"
     ]
    }
   ],
   "source": [
    "#Задача 3 (проверка 2)\n",
    "#Напишите функцию, которая будет возвращать акроним по переданной в нее строке со словами.\n",
    "some_words=input('Введите строку для перевода:')\n",
    "some_words1=str.title(some_words)\n",
    "print(re.sub(r'\\b(\\w)\\w+', r'\\1',some_words1 ))\n"
   ]
  },
  {
   "cell_type": "code",
   "execution_count": 93,
   "metadata": {},
   "outputs": [
    {
     "name": "stdout",
     "output_type": "stream",
     "text": [
      "['gmail.com']\n",
      "['test.in']\n",
      "['ya.ru']\n",
      "['mail.ru']\n",
      "['ya.ru']\n",
      "['gmail.com']\n"
     ]
    }
   ],
   "source": [
    "#Задача 4 \n",
    "# Напишите функцию, которая будет принимать на вход список email-адресов и выводить их распределение по доменным зонам.\n",
    "emails = ['test@gmail.com', 'xyz@test.in', 'test@ya.ru', 'xyz@mail.ru', 'xyz@ya.ru', 'xyz@gmail.com']\n",
    "counter = {}\n",
    "for mail in emails: \n",
    "    #print(re.findall(r'([a-zA-Z0-9_.+-]+@[a-zA-Z0-9-]+\\.[a-zA-Z0-9-.]+)', mail))\n",
    "    print(re.findall(r'([a-zA-Z0-9-]+\\.[a-zA-Z0-9-.]+)', mail))\n",
    "    \n",
    "    "
   ]
  },
  {
   "cell_type": "code",
   "execution_count": 122,
   "metadata": {},
   "outputs": [
    {
     "name": "stdout",
     "output_type": "stream",
     "text": [
      "{'gmail.com': 2, 'test.in': 1, 'ya.ru': 2, 'mail.ru': 1}\n"
     ]
    }
   ],
   "source": [
    "emails = ['test@gmail.com', 'xyz@test.in', 'test@ya.ru', 'xyz@mail.ru', 'xyz@ya.ru', 'xyz@gmail.com']\n",
    "counter = {}\n",
    "for mail in emails: \n",
    "    #print(re.findall(r'([a-zA-Z0-9_.+-]+@[a-zA-Z0-9-]+\\.[a-zA-Z0-9-.]+)', mail))\n",
    "    domen=re.findall(r'([a-zA-Z0-9-]+\\.[a-zA-Z0-9-.]+)', mail)\n",
    "    for elem in domen:\n",
    "        counter[elem] = counter.get(elem, 0) + 1\n",
    "    doubles = {element: count for element, count in counter.items() if count}\n",
    "    lis=\n",
    "print(doubles)\n",
    "  "
   ]
  },
  {
   "cell_type": "code",
   "execution_count": null,
   "metadata": {},
   "outputs": [],
   "source": []
  }
 ],
 "metadata": {
  "kernelspec": {
   "display_name": "Python 3",
   "language": "python",
   "name": "python3"
  },
  "language_info": {
   "codemirror_mode": {
    "name": "ipython",
    "version": 3
   },
   "file_extension": ".py",
   "mimetype": "text/x-python",
   "name": "python",
   "nbconvert_exporter": "python",
   "pygments_lexer": "ipython3",
   "version": "3.8.5"
  }
 },
 "nbformat": 4,
 "nbformat_minor": 4
}
