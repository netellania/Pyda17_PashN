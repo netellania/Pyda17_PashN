{
 "cells": [
  {
   "cell_type": "code",
   "execution_count": 2,
   "metadata": {},
   "outputs": [],
   "source": [
    "#Задание 1\n",
    "#Печатные газеты использовали свой формат дат для каждого выпуска. \n",
    "#Для каждой газеты из списка напишите формат указанной даты для перевода в объект datetime:\n",
    "#The Moscow Times - Wednesday, October 2, 2002\n",
    "#The Guardian - Friday, 11.10.13\n",
    "#Daily News - Thursday, 18 August 1977\n",
    "from datetime import datetime\n"
   ]
  },
  {
   "cell_type": "code",
   "execution_count": 4,
   "metadata": {},
   "outputs": [],
   "source": [
    "date_string= '07.02.2021' # строка с датой"
   ]
  },
  {
   "cell_type": "code",
   "execution_count": 30,
   "metadata": {},
   "outputs": [
    {
     "name": "stdout",
     "output_type": "stream",
     "text": [
      "2021-02-07 00:00:00\n"
     ]
    }
   ],
   "source": [
    "# перевести в формат даты\n",
    "date_datetime = datetime.strptime( date_string, '%d.%m.%Y' )\n",
    "print(date_datetime)"
   ]
  },
  {
   "cell_type": "code",
   "execution_count": 19,
   "metadata": {},
   "outputs": [],
   "source": [
    "import calendar\n"
   ]
  },
  {
   "cell_type": "code",
   "execution_count": 20,
   "metadata": {},
   "outputs": [
    {
     "name": "stdout",
     "output_type": "stream",
     "text": [
      "Sun\n"
     ]
    }
   ],
   "source": [
    "print(calendar.day_abbr[date_times.weekday()])"
   ]
  },
  {
   "cell_type": "code",
   "execution_count": 46,
   "metadata": {},
   "outputs": [
    {
     "name": "stdout",
     "output_type": "stream",
     "text": [
      "Sunday, February 07, 2021\n",
      "Sunday, 07.02.21\n",
      "Sunday, 07 February 2021\n"
     ]
    }
   ],
   "source": [
    "Mos_Times=date_datetime.strftime('%A, %B %d, %Y')\n",
    "Guardian=date_datetime.strftime('%A, %d.%m.%y')\n",
    "Daily_News=date_datetime.strftime('%A, %d %B %Y')\n",
    "print (Mos_Times)\n",
    "print (Guardian)\n",
    "print (Daily_News)\n"
   ]
  },
  {
   "cell_type": "code",
   "execution_count": 55,
   "metadata": {},
   "outputs": [
    {
     "name": "stdout",
     "output_type": "stream",
     "text": [
      "2018-04-02 True\n",
      "2018-02-29 False\n",
      "2018-19-02 False\n"
     ]
    }
   ],
   "source": [
    "#Задание 2 Написать функцию, которая проверяет даты на корректность.\n",
    "#Для каждой даты возвращает True (дата корректна) или False (некорректная дата).\n",
    "#Дан поток дат в формате YYYY-MM-DD, в которых встречаются некорректные значения:\n",
    "#stream = [‘2018-04-02’, ‘2018-02-29’, ‘2018-19-02’]\n",
    "from datetime import datetime\n",
    "stream = ['2018-04-02', '2018-02-29', '2018-19-02']\n",
    "\n",
    "def date_correct(stream):\n",
    "    for date in stream:\n",
    "        try:\n",
    "            datetime.strptime(date, '%Y-%m-%d')\n",
    "            rez=True\n",
    "            print(date, rez)\n",
    "        except:\n",
    "            rez=False\n",
    "            print(date, rez)\n",
    "    return       \n",
    "date_correct(stream)    \n"
   ]
  },
  {
   "cell_type": "code",
   "execution_count": 133,
   "metadata": {},
   "outputs": [
    {
     "name": "stdout",
     "output_type": "stream",
     "text": [
      " start_date2021-02-01\n",
      " end_date2021-02-10\n",
      "2021-02-01\n",
      "2021-02-02\n",
      "2021-02-03\n",
      "2021-02-04\n",
      "2021-02-05\n",
      "2021-02-06\n",
      "2021-02-07\n",
      "2021-02-08\n",
      "2021-02-09\n",
      "2021-02-10\n"
     ]
    }
   ],
   "source": [
    "#Задание 3 Напишите функцию date_range, которая возвращает список дат за период от start_date до end_date. \n",
    "#Даты должны вводиться в формате YYYY-MM-DD. \n",
    "#В случае неверного формата или при start_date > end_date должен возвращаться пустой список.\n",
    "from datetime import datetime\n",
    "from datetime import timedelta\n",
    "start_date=input(' start_date')\n",
    "end_date=input(' end_date')\n",
    "date_range=[]\n",
    "\n",
    "def date_range():\n",
    "    try: \n",
    "        start_date_datetime=datetime.strptime(start_date, '%Y-%m-%d')\n",
    "        end_date_datetime=datetime.strptime(end_date, '%Y-%m-%d') \n",
    "        #print (start_date_datetime, end_date_datetime)\n",
    "\n",
    "        current_dt=start_date_datetime\n",
    "        while current_dt<=end_date_datetime:\n",
    "            print (current_dt.strftime('%Y-%m-%d'))\n",
    "            current_dt+=timedelta(days=1)\n",
    "            #date_range+=[current_dt]\n",
    "            #print (current_dt)\n",
    "    except:\n",
    "        date_range=[]\n",
    "    return    \n",
    "date_range()"
   ]
  },
  {
   "cell_type": "code",
   "execution_count": null,
   "metadata": {},
   "outputs": [],
   "source": []
  }
 ],
 "metadata": {
  "kernelspec": {
   "display_name": "Python 3",
   "language": "python",
   "name": "python3"
  },
  "language_info": {
   "codemirror_mode": {
    "name": "ipython",
    "version": 3
   },
   "file_extension": ".py",
   "mimetype": "text/x-python",
   "name": "python",
   "nbconvert_exporter": "python",
   "pygments_lexer": "ipython3",
   "version": "3.8.5"
  }
 },
 "nbformat": 4,
 "nbformat_minor": 4
}
