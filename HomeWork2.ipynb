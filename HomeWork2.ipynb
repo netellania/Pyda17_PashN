{
 "cells": [
  {
   "cell_type": "code",
   "execution_count": 38,
   "metadata": {},
   "outputs": [
    {
     "name": "stdout",
     "output_type": "stream",
     "text": [
      "t\n"
     ]
    }
   ],
   "source": [
    "# Задача1 Цнтральные символы в слове\n",
    "\n",
    "word = 'testing' \n",
    "num = len(word) // 2\n",
    "if num % 2 == 0:\n",
    "    print(word[int(num) - 1:int(num) + 1])\n",
    "else:\n",
    "    print(word[int(num)])\n"
   ]
  },
  {
   "cell_type": "code",
   "execution_count": 94,
   "metadata": {},
   "outputs": [
    {
     "name": "stdout",
     "output_type": "stream",
     "text": [
      "Введите число:\n",
      "1\n",
      "Введите число:\n",
      "4\n",
      "Введите число:\n",
      "6\n",
      "Введите число:\n",
      "0\n",
      "Результат:\n",
      " 11\n"
     ]
    }
   ],
   "source": [
    "# Задача2 Напишите программу, которая последовательно запрашивает\n",
    "# у пользователя числа (по одному за раз) и после первого нуля \n",
    "# выводит сумму всех ранее введенных чисел.\n",
    "\n",
    "summ = 0 \n",
    "while True:\n",
    "    num = int(input('Введите число:\\n',)) \n",
    "    if num == 0: \n",
    "        break  \n",
    "    summ += num \n",
    "print('Результат:\\n', summ) \n",
    "\n"
   ]
  },
  {
   "cell_type": "code",
   "execution_count": 168,
   "metadata": {},
   "outputs": [
    {
     "name": "stdout",
     "output_type": "stream",
     "text": [
      "Идеальные пары:\n",
      " \n",
      "Alex и Emma\n",
      "Arthur и Kate\n",
      "John и Kira\n",
      "Peter и Liza\n",
      "Richard и Trisha\n"
     ]
    }
   ],
   "source": [
    "# Задача3 Пары парней и девушек\n",
    "\n",
    "boys = ['Peter', 'Alex', 'John', 'Arthur', 'Richard']\n",
    "girls = ['Kate', 'Liza', 'Kira', 'Emma', 'Trisha']\n",
    "new_list =[]\n",
    "\n",
    "boys_sort = sorted(boys)\n",
    "girls_sort = sorted(girls)\n",
    "boys_kol =len(boys_sort)\n",
    "girls_kol = len(girls_sort)\n",
    "\n",
    "if boys_kol!= girls_kol:\n",
    "    print('Внимание, кто-то может остаться без пары!')\n",
    "else:\n",
    "    for each in range(0,len(boys_sort)):\n",
    "        new_list.append(str(boys_sort[each]) +' ' + 'и' + ' ' + str(girls_sort[each]))\n",
    "    print ('Идеальные пары:\\n ')\n",
    "    print('\\n'.join(new_list))\n",
    "\n",
    "\n",
    "\n",
    "\n"
   ]
  },
  {
   "cell_type": "code",
   "execution_count": null,
   "metadata": {},
   "outputs": [],
   "source": [
    "\n",
    "\n"
   ]
  }
 ],
 "metadata": {
  "kernelspec": {
   "display_name": "Python 3",
   "language": "python",
   "name": "python3"
  },
  "language_info": {
   "codemirror_mode": {
    "name": "ipython",
    "version": 3
   },
   "file_extension": ".py",
   "mimetype": "text/x-python",
   "name": "python",
   "nbconvert_exporter": "python",
   "pygments_lexer": "ipython3",
   "version": "3.8.5"
  }
 },
 "nbformat": 4,
 "nbformat_minor": 4
}
