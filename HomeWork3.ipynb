{
 "cells": [
  {
   "cell_type": "code",
   "execution_count": 6,
   "metadata": {},
   "outputs": [
    {
     "name": "stdout",
     "output_type": "stream",
     "text": [
      "{98, 35, 15, 213, 54, 119}\n"
     ]
    }
   ],
   "source": [
    "#Задание1 Вывести на экран множество уникальных гео-меток всех пользователей.\n",
    "ids = {'user1': [213, 213, 213, 15, 213], \n",
    "       'user2': [54, 54, 119, 119, 119], \n",
    "       'user3': [213, 98, 98, 35]}\n",
    "#print(ids.values())\n",
    "\n",
    "print(set(sum(ids.values(), [])))\n"
   ]
  },
  {
   "cell_type": "code",
   "execution_count": 100,
   "metadata": {},
   "outputs": [
    {
     "name": "stdout",
     "output_type": "stream",
     "text": [
      "Поисковых запросов, содержащих 2 слова: 42.86%\n",
      "Поисковых запросов, содержащих 3 слова: 57.14%\n"
     ]
    }
   ],
   "source": [
    "#Задание2 Распределение количества слов в запросах пользователя в требуемом виде.\n",
    "\n",
    "queries = [\n",
    "    'смотреть сериалы онлайн',\n",
    "    'новости спорта',\n",
    "    'афиша кино',\n",
    "    'курс доллара',\n",
    "    'сериалы этим летом',\n",
    "    'курс по питону',\n",
    "    'сериалы про спорт',\n",
    "]\n",
    "\n",
    "#Множество преобразуем в список из вложенных списков \n",
    "\n",
    "mnoz_quer = {}\n",
    "\n",
    "for query in queries:\n",
    "    words = query.split()\n",
    "    #print (words)\n",
    "    if len(words) in mnoz_quer.keys():\n",
    "        mnoz_quer[len(words)] += 1\n",
    "                        \n",
    "    else:\n",
    "            mnoz_quer.update({\n",
    "              len(words): 1\n",
    "          })\n",
    "      \n",
    "            #print(mnoz_quer.items()) \n",
    "#Распакуем элементы и посчитаем процент \n",
    "for  key, value in sorted(mnoz_quer.items()):\n",
    "    proc = round((value / len(queries)) * 100, 2)\n",
    "    print(f'Поисковых запросов, содержащих {key} слова: {proc}%')\n",
    "       \n",
    "          "
   ]
  },
  {
   "cell_type": "code",
   "execution_count": 235,
   "metadata": {},
   "outputs": [
    {
     "name": "stdout",
     "output_type": "stream",
     "text": [
      "adwords {'revenue': 35, 'cost': 34, 'ROI': 2.94}\n",
      "facebook {'revenue': 103, 'cost': 110, 'ROI': -6.36}\n",
      "twitter {'revenue': 11, 'cost': 24, 'ROI': -54.17}\n",
      "vk {'revenue': 103, 'cost': 98, 'ROI': 5.1}\n",
      "yandex {'revenue': 179, 'cost': 153, 'ROI': 16.99}\n"
     ]
    }
   ],
   "source": [
    "#Задание3 Необходимо дополнить информация о затратах и доходе рекламных кампаний по различным источникам\n",
    "          #показателем ROI, который рассчитывается по формуле: (revenue / cost - 1) * 100\n",
    "\n",
    "results = {\n",
    "    'vk': {'revenue': 103, 'cost': 98},\n",
    "    'yandex': {'revenue': 179, 'cost': 153},\n",
    "    'facebook': {'revenue': 103, 'cost': 110},\n",
    "    'adwords': {'revenue': 35, 'cost': 34},\n",
    "    'twitter': {'revenue': 11, 'cost': 24},\n",
    "}\n",
    "\n",
    "for key, value in sorted(results.items()):\n",
    "    #print('revenue', value['revenue'])\n",
    "    #print('cost', value['cost'])\n",
    "    value['ROI'] = round(((value['revenue'] / value['cost']) - 1)*100 , 2)\n",
    "    #results.setdefault(value['ROI'])\n",
    "    print(key, value)\n"
   ]
  },
  {
   "cell_type": "code",
   "execution_count": 178,
   "metadata": {},
   "outputs": [
    {
     "name": "stdout",
     "output_type": "stream",
     "text": [
      "Максимальный объем продаж на рекламном канале: vk\n"
     ]
    }
   ],
   "source": [
    "#Задание4 Возвращение названия канала с максимальным объемом продаж.\n",
    "\n",
    "stats = {'facebook': 55, 'yandex': 115, 'vk': 120, 'google': 99, 'email': 42, 'ok': 98}\n",
    "\n",
    "max_stats = max(stats.items(), key=lambda x: x[1]) \n",
    "print('Максимальный объем продаж на рекламном канале:', max_stats[0])  \n"
   ]
  },
  {
   "cell_type": "code",
   "execution_count": null,
   "metadata": {},
   "outputs": [],
   "source": []
  }
 ],
 "metadata": {
  "kernelspec": {
   "display_name": "Python 3",
   "language": "python",
   "name": "python3"
  },
  "language_info": {
   "codemirror_mode": {
    "name": "ipython",
    "version": 3
   },
   "file_extension": ".py",
   "mimetype": "text/x-python",
   "name": "python",
   "nbconvert_exporter": "python",
   "pygments_lexer": "ipython3",
   "version": "3.8.5"
  }
 },
 "nbformat": 4,
 "nbformat_minor": 4
}
